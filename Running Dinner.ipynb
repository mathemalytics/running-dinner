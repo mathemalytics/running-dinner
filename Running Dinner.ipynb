{
 "cells": [
  {
   "cell_type": "markdown",
   "id": "44fb2dd9-57e8-4cf5-9cd1-a32850ce0308",
   "metadata": {},
   "source": [
    "# Running Dinner"
   ]
  },
  {
   "cell_type": "markdown",
   "id": "a4a02797-547e-4aea-871b-c7d6f03a860c",
   "metadata": {},
   "source": [
    "$n$: Gesamtanzahl Teams\n",
    "\n",
    "$i$: Team\n",
    "\n",
    "$a$: Team for course 1\n",
    "\n",
    "$b$: Team for course 2\n",
    "\n",
    "$c$: Team for course 3\n",
    "\n",
    "$F$: final location where all teams meet, e.g. a pub\n",
    "\n",
    "$x_{iabcF}$: Decision variable (DV) Team $i$ is going to team $a$ for course 1, to team $b$ for course 2, to team $c$ for course 3, and finally to the final location $F$\n",
    "\n",
    "$x_{ik}$: Decision variable Team $i$ is preparing course $k$\n",
    "\n",
    "$d_{iabcF}$: Total commuting time for team $i$ for route to team $a$, then to team $b$, then to team $c$, and finally to the final location $F$\n",
    "<br><br>\n",
    "\n",
    "Every team is exactly 1x hosting and has exactly 1 route:\n",
    "\n",
    "$\\Sigma_{b=1}^n \\Sigma_{c=1}^n x_{iibcF} + \\Sigma_{a=1}^n \\Sigma_{c=1}^n x_{iaicF} + \\Sigma_{a=1}^n \\Sigma_{b=1}^n x_{iabiF} = 1$ &nbsp; $\\forall i$\n",
    "<br><br>\n",
    "\n",
    "Every team is paired with the same team max. 1x:\n",
    "\n",
    "$\\Sigma_{i=1}^n x_{iibcF} \\leq 1$ &nbsp; $\\forall b,c,$ &nbsp; $b \\not = c$\n",
    "<br>\n",
    "\n",
    "$\\Sigma_{i=1}^n x_{iaicF} \\leq 1$ &nbsp; $\\forall a,c,$ &nbsp; $a \\not = c$\n",
    "<br>\n",
    "\n",
    "$\\Sigma_{i=1}^n x_{iabiF} \\leq 1$ &nbsp; $\\forall a,b,$ &nbsp; $a \\not = b$\n",
    "<br><br>\n",
    "\n",
    "For course 1, exactly 3 teams are at the same place:\n",
    "\n",
    "$0 \\leq \\Sigma_{i=1}^n \\Sigma_{b=1}^n \\Sigma_{c=1}^n x_{iabcF} \\leq 3 * x_{a1}$ &nbsp; $\\forall a$\n",
    "<br><br>\n",
    "\n",
    "For course 2, exactly 3 teams are at the same place:\n",
    "\n",
    "$0 \\leq \\Sigma_{i=1}^n \\Sigma_{a=1}^n \\Sigma_{c=1}^n x_{iabcF} \\leq 3 * x_{b2}$ &nbsp; $\\forall b$\n",
    "<br><br>\n",
    "\n",
    "For course 3, exactly 3 teams are at the same place:\n",
    "\n",
    "$0 \\leq \\Sigma_{i=1}^n \\Sigma_{a=1}^n \\Sigma_{b=1}^n x_{iabcF} \\leq 3 * x_{c3}$ &nbsp; $\\forall c$\n",
    "<br><br>\n",
    "\n",
    "Every team is hosting exactly 1 course:\n",
    "\n",
    "$\\Sigma_{k=1}^3 x_{ik} = 1$ &nbsp; $\\forall i$\n",
    "<br><br>\n",
    "\n",
    "Every course is hosted by exactly $n/3$ teams:\n",
    "\n",
    "$\\Sigma_{i=1}^n x_{ik} = n/3$ &nbsp; $\\forall k$\n",
    "<br><br>\n",
    "\n",
    "A team must not be paired with themself and has to be part of their own route:\n",
    "\n",
    "$x_{iabcF} = 0$ &nbsp; $for$ &nbsp; $a == b \\lor a == c \\lor b == c \\lor (i \\not = a \\land i \\not = b \\land i \\not = c)$\n",
    "<br><br>\n",
    "\n",
    "Decision variable is either $0$ or $1$:\n",
    "\n",
    "$0 \\leq x_{iabcF} \\leq 1$ &nbsp; $\\forall i, a, b, c$\n",
    "<br>\n",
    "$0 \\leq x_{ik} \\leq 1$ &nbsp; $\\forall i, k$\n",
    "<br><br>\n",
    "\n",
    "Minimise the total commuting time for all teams:\n",
    "$\\Sigma_{i=1}^n \\Sigma_{a=1}^n \\Sigma_{b=1}^n \\Sigma_{c=1}^n x_{iabcF} * d_{iabcF} = min$"
   ]
  },
  {
   "cell_type": "code",
   "execution_count": 1,
   "id": "f71832d1-7d27-4f08-b831-f22a801175e3",
   "metadata": {},
   "outputs": [],
   "source": [
    "import numpy as np\n",
    "import pandas as pd\n",
    "from dotenv import load_dotenv\n",
    "import logging\n",
    "import os\n",
    "from pulp import LpProblem, LpMinimize, LpVariable, lpSum, LpStatus, PULP_CBC_CMD"
   ]
  },
  {
   "cell_type": "code",
   "execution_count": 2,
   "id": "39d73736-225d-4125-ade5-38118e7861cd",
   "metadata": {},
   "outputs": [],
   "source": [
    "model = LpProblem('Running_Dinner', LpMinimize)"
   ]
  },
  {
   "cell_type": "code",
   "execution_count": 3,
   "id": "6c12b5ca-6403-4f3c-ab9b-53fd1ce4a67b",
   "metadata": {},
   "outputs": [],
   "source": [
    "# total number of teams n\n",
    "n = 15"
   ]
  },
  {
   "cell_type": "code",
   "execution_count": 4,
   "id": "d596de0d-9eb4-4706-96fc-789814167920",
   "metadata": {
    "tags": []
   },
   "outputs": [],
   "source": [
    "# distance matrix\n",
    "distance_matrix = np.array([[0, 51, 46, 33, 45, 57, 23, 51, 45, 46, 48, 53, 45, 47, 54, 45],\n",
    "                           [56, 0, 21, 38, 9, 47, 32, 14, 15, 25, 22, 31, 9, 30, 33, 26],\n",
    "                           [44, 20, 0, 25, 12, 36, 17, 16, 13, 38, 22, 26, 12, 31, 46, 39],\n",
    "                           [30, 37, 26, 0, 35, 41, 11, 31, 28, 28, 32, 41, 33, 32, 36, 26],\n",
    "                           [45, 9, 14, 35, 0, 40, 26, 15, 10, 31, 15, 24, 1, 32, 39, 32],\n",
    "                           [57, 45, 33, 40, 40, 0, 38, 38, 35, 34, 37, 52, 40, 20, 35, 32],\n",
    "                           [23, 34, 18, 10, 25, 41, 0, 23, 20, 26, 22, 32, 25, 33, 30, 27],\n",
    "                           [50, 14, 16, 30, 15, 41, 22, 0, 15, 34, 27, 27, 15, 39, 42, 35],\n",
    "                           [44, 14, 13, 28, 10, 39, 20, 15, 0, 32, 25, 26, 10, 30, 40, 33],\n",
    "                           [45, 25, 37, 33, 33, 32, 25, 34, 31, 0, 23, 43, 31, 30, 13, 9],\n",
    "                           [46, 22, 22, 32, 15, 35, 24, 30, 25, 26, 0, 33, 17, 25, 34, 27],\n",
    "                           [55, 33, 26, 39, 23, 49, 32, 27, 26, 42, 33, 0, 28, 43, 50, 43],\n",
    "                           [45, 9, 14, 32, 1, 40, 26, 15, 10, 31, 17, 23, 0, 32, 39, 32],\n",
    "                           [47, 34, 30, 31, 37, 20, 33, 35, 32, 31, 27, 42, 37, 0, 39, 32],\n",
    "                           [53, 33, 45, 35, 40, 33, 33, 42, 39, 13, 31, 51, 41, 39, 0, 17]])\n",
    "#print(distance_matrix)"
   ]
  },
  {
   "cell_type": "code",
   "execution_count": 5,
   "id": "81be7117-e23d-483e-a59f-d83e4b3ee4ac",
   "metadata": {
    "tags": []
   },
   "outputs": [],
   "source": [
    "total_distance_matrix = np.full((n, n, n, n, 1), 999999999)\n",
    "list_letters = [chr(i) for i in range(ord('a'),ord('a')+n)]\n",
    "variable_names = list()\n",
    "\n",
    "for i in range(n):\n",
    "    for a in range(n):\n",
    "        for b in range(n):\n",
    "            for c in range(n):\n",
    "                if (a != b) & (a != c) & (b != c) & (distance_matrix[i][a] >= 0) & (distance_matrix[i][b] >= 0) & (distance_matrix[i][c] >= 0):\n",
    "                    total_distance_matrix[i][a][b][c][0] = distance_matrix[i][a] + distance_matrix[a][b] + distance_matrix[b][c] + distance_matrix[c][n]\n",
    "                variable_names.append(f'{list_letters[i]}{list_letters[a]}{list_letters[b]}{list_letters[c]}{0}')"
   ]
  },
  {
   "cell_type": "markdown",
   "id": "e615b31f-310b-4fa2-973d-473707cadfa7",
   "metadata": {},
   "source": [
    "Decision variable is either $0$ or $1$:\n",
    "\n",
    "$0 \\leq x_{iabcF} \\leq 1$ &nbsp; $\\forall i, a, b, c$"
   ]
  },
  {
   "cell_type": "code",
   "execution_count": 6,
   "id": "e4063385-0aab-4983-aac1-b9da27c75294",
   "metadata": {
    "tags": []
   },
   "outputs": [],
   "source": [
    "dv_variables = LpVariable.matrix('x', variable_names, cat='Integer', lowBound=0, upBound=1)\n",
    "allocation = np.array(dv_variables).reshape(n, n, n, n, 1)"
   ]
  },
  {
   "cell_type": "code",
   "execution_count": 7,
   "id": "9410bf4c-f21c-46f6-9c2c-b8ba50cccfcc",
   "metadata": {},
   "outputs": [],
   "source": [
    "iv_variable_names = list()\n",
    "for i in range(n):\n",
    "    for g in range(3):\n",
    "        iv_variable_names.append(f'{list_letters[i]}{g+1}')"
   ]
  },
  {
   "cell_type": "markdown",
   "id": "5333b1ee-122c-4617-991a-d8ba4bc3a83d",
   "metadata": {},
   "source": [
    "Decision variable is either $0$ or $1$:\n",
    "\n",
    "$0 \\leq x_{ik} \\leq 1$ &nbsp; $\\forall i, k$"
   ]
  },
  {
   "cell_type": "code",
   "execution_count": 8,
   "id": "88907dc6-97b3-4bf4-bb7d-e67830e4f260",
   "metadata": {},
   "outputs": [],
   "source": [
    "iv_variables = LpVariable.matrix('x', iv_variable_names, cat='Integer', lowBound=0, upBound=1)\n",
    "iv_allocation = np.array(iv_variables).reshape(n, 3)"
   ]
  },
  {
   "cell_type": "markdown",
   "id": "e08fa978-b266-4516-8e7e-b3a4119d8449",
   "metadata": {},
   "source": [
    "Minimise the total commuting time for all teams:\n",
    "\n",
    "$\\Sigma_{i=1}^n \\Sigma_{a=1}^n \\Sigma_{b=1}^n \\Sigma_{c=1}^n x_{iabcF} * d_{iabcF} = min$"
   ]
  },
  {
   "cell_type": "code",
   "execution_count": 9,
   "id": "33d9a0f3-7158-40db-baa1-b4f6107c91d6",
   "metadata": {
    "tags": []
   },
   "outputs": [],
   "source": [
    "objective_function = lpSum(allocation * total_distance_matrix)\n",
    "\n",
    "model += objective_function"
   ]
  },
  {
   "cell_type": "markdown",
   "id": "f7d02119-76c7-4269-9316-cdda86956576",
   "metadata": {},
   "source": [
    "A team must not be paired with themself and has to be part of their own route:\n",
    "\n",
    "$x_{iabcF} = 0$ &nbsp; $for$ &nbsp; $a == b \\lor a == c \\lor b == c \\lor (i \\not = a \\land i \\not = b \\land i \\not = c)$"
   ]
  },
  {
   "cell_type": "code",
   "execution_count": 10,
   "id": "2495b16b-5b79-4a15-bb43-9e92e521c22b",
   "metadata": {
    "tags": []
   },
   "outputs": [],
   "source": [
    "model += lpSum(allocation[i][a][b][c][0] for i in range(n) for a in range(n) for b in range(n) for c in range(n) if total_distance_matrix[i][a][b][c][0] >= 999999999) == 0, 'Keine negative Distanz'"
   ]
  },
  {
   "cell_type": "markdown",
   "id": "4df69f88-d420-4630-a64b-c313b93d942f",
   "metadata": {},
   "source": [
    "Every team is exactly 1x hosting and has exactly 1 route:\n",
    "\n",
    "$\\Sigma_{b=1}^n \\Sigma_{c=1}^n x_{iibcF} + \\Sigma_{a=1}^n \\Sigma_{c=1}^n x_{iaicF} + \\Sigma_{a=1}^n \\Sigma_{b=1}^n x_{iabiF} = 1$ &nbsp; $\\forall i$\n",
    "<br><br>"
   ]
  },
  {
   "cell_type": "code",
   "execution_count": 11,
   "id": "fd5f39f2-763a-4370-9e1a-25bee349eaea",
   "metadata": {
    "tags": []
   },
   "outputs": [],
   "source": [
    "for i in range(n):\n",
    "    #print(lpSum(allocation[i][i][b][c][0] for b in range(n) for c in range(n) if (i != b) & (i != c) & (b != c)) + \\\n",
    "    #      lpSum(allocation[i][a][i][c][0] for a in range(n) for c in range(n) if (i != a) & (i != c) & (a != c)) + \\\n",
    "    #      lpSum(allocation[i][a][b][i][0] for a in range(n) for b in range(n) if (i != a) & (i != b) & (a != b)) == 1)\n",
    "    model += lpSum(allocation[i][i][b][c][0] for b in range(n) for c in range(n) if (i != b) & (i != c) & (b != c)) + \\\n",
    "          lpSum(allocation[i][a][i][c][0] for a in range(n) for c in range(n) if (i != a) & (i != c) & (a != c)) + \\\n",
    "          lpSum(allocation[i][a][b][i][0] for a in range(n) for b in range(n) if (i != a) & (i != b) & (a != b)) == 1, 'Eine Strecke für Team ' + str(i)"
   ]
  },
  {
   "cell_type": "markdown",
   "id": "67c6f89b-133a-4aaa-8584-0426952fdbf8",
   "metadata": {},
   "source": [
    "Every team is exactly 1x hosting and has exactly 1 route:\n",
    "\n",
    "$\\Sigma_{i=1}^n x_{iibcF} \\leq 1$ &nbsp; $\\forall b,c,$ &nbsp; $b \\not = c$\n",
    "<br>\n",
    "\n",
    "$\\Sigma_{i=1}^n x_{iaicF} \\leq 1$ &nbsp; $\\forall a,c,$ &nbsp; $a \\not = c$\n",
    "<br>\n",
    "\n",
    "$\\Sigma_{i=1}^n x_{iabiF} \\leq 1$ &nbsp; $\\forall a,b,$ &nbsp; $a \\not = b$"
   ]
  },
  {
   "cell_type": "code",
   "execution_count": 12,
   "id": "a82a68b1-de73-4640-b244-a55b1941ed7c",
   "metadata": {
    "tags": []
   },
   "outputs": [],
   "source": [
    "for a in range(n):\n",
    "    for b in range(n):\n",
    "        if (a != b):\n",
    "            #print(lpSum(allocation[i][a][b][c] for i in range(n) for c in range(n) if (a != c) & (b != c) & (a != b)) <= 1)\n",
    "            \n",
    "            model += lpSum(allocation[i][a][b][c] for i in range(n) for c in range(n) if (a != c) & (b != c) & (a != b)) <= 1, f'Maximal 1 Team ist sowohl bei Team {a} im 1. Gang und bei Team {b} im 2. Gang'"
   ]
  },
  {
   "cell_type": "code",
   "execution_count": 13,
   "id": "e4434ad3-a58e-4df9-a2a6-032243029700",
   "metadata": {
    "tags": []
   },
   "outputs": [],
   "source": [
    "for a in range(n):\n",
    "    for c in range(n):\n",
    "        if (a != c):\n",
    "            #print(lpSum(allocation[i][a][b][c] for i in range(n) for b in range(n) if (a != c) & (b != c) & (a != b)) <= 1)\n",
    "            \n",
    "            model += lpSum(allocation[i][a][b][c] for i in range(n) for b in range(n) if (a != c) & (b != c) & (a != b)) <= 1, f'Maximal 1 Team ist sowohl bei Team {a} im 1. Gang und bei Team {c} im 3. Gang'"
   ]
  },
  {
   "cell_type": "code",
   "execution_count": 14,
   "id": "1f6a5a98-315c-464e-9227-d79059bfdbaf",
   "metadata": {
    "tags": []
   },
   "outputs": [],
   "source": [
    "for b in range(n):\n",
    "    for c in range(n):\n",
    "        if (b != c):\n",
    "            #print(lpSum(allocation[i][a][b][c] for i in range(n) for a in range(n) if (a != c) & (b != c) & (a != b)) <= 1)\n",
    "            \n",
    "            model += lpSum(allocation[i][a][b][c] for i in range(n) for a in range(n) if (a != c) & (b != c) & (a != b)) <= 1, f'Maximal 1 Team ist sowohl bei Team {b} im 2. Gang und bei Team {c} im 3. Gang'"
   ]
  },
  {
   "cell_type": "markdown",
   "id": "3e5f6ab2-ad16-47e2-9aae-d2ca710edd8f",
   "metadata": {},
   "source": [
    "For course 1, exactly 3 teams are at the same place:\n",
    "\n",
    "$0 \\leq \\Sigma_{i=1}^n \\Sigma_{b=1}^n \\Sigma_{c=1}^n x_{iabcF} \\leq 3 * x_{a1}$ &nbsp; $\\forall a$\n",
    "<br><br>"
   ]
  },
  {
   "cell_type": "code",
   "execution_count": 15,
   "id": "0f10d06b-7f55-4a58-b1cd-bfe3c94cec3f",
   "metadata": {
    "tags": []
   },
   "outputs": [],
   "source": [
    "for a in range(n):\n",
    "    #print(lpSum(allocation[i][a][b][c][0] \\\n",
    "    #            for i in range(n) for b in range(n) for c in range(n) \\\n",
    "    #            if (a != b) & (a != c) & (b != c) & ((i == a) or (i == b) or (i == c))) >= 0)\n",
    "    model += lpSum(allocation[i][a][b][c][0] \\\n",
    "                for i in range(n) for b in range(n) for c in range(n) \\\n",
    "                if (a != b) & (a != c) & (b != c) & ((i == a) or (i == b) or (i == c))) >= 0, f'Min 3 Teams bei Team {a} im 1. Gang'\n",
    "    \n",
    "    #print(lpSum(allocation[i][a][b][c][0] \\\n",
    "    #            for i in range(n) for b in range(n) for c in range(n) \\\n",
    "    #            if (a != b) & (a != c) & (b != c) & ((i == a) or (i == b) or (i == c))) \\\n",
    "    #      - 3 * iv_allocation[a][0] <= 0)\n",
    "    model += lpSum(allocation[i][a][b][c][0] \\\n",
    "                for i in range(n) for b in range(n) for c in range(n) \\\n",
    "                if (a != b) & (a != c) & (b != c) & ((i == a) or (i == b) or (i == c))) \\\n",
    "          - 3 * iv_allocation[a][0] <= 0, f'Max 3 Teams bei Team {a} im 1. Gang'"
   ]
  },
  {
   "cell_type": "markdown",
   "id": "87e6b50b-d398-4611-b785-ee596819315b",
   "metadata": {},
   "source": [
    "For course 2, exactly 3 teams are at the same place:\n",
    "\n",
    "$0 \\leq \\Sigma_{i=1}^n \\Sigma_{a=1}^n \\Sigma_{c=1}^n x_{iabcF} \\leq 3 * x_{b2}$ &nbsp; $\\forall b$\n",
    "<br><br>"
   ]
  },
  {
   "cell_type": "code",
   "execution_count": 16,
   "id": "b36b83d1-fbd8-432c-829a-06cd23f03751",
   "metadata": {
    "tags": []
   },
   "outputs": [],
   "source": [
    "for b in range(n):\n",
    "    #print(lpSum(allocation[i][a][b][c][0] \\\n",
    "    #            for i in range(n) for a in range(n) for c in range(n) \\\n",
    "    #            if (a != b) & (a != c) & (b != c) & ((i == a) or (i == b) or (i == c))) >= 0)\n",
    "    model += lpSum(allocation[i][a][b][c][0] \\\n",
    "                for i in range(n) for a in range(n) for c in range(n) \\\n",
    "                if (a != b) & (a != c) & (b != c) & ((i == a) or (i == b) or (i == c))) >= 0, f'Min 3 Teams bei Team {b} im 2. Gang'\n",
    "    \n",
    "    #print(lpSum(allocation[i][a][b][c][0] \\\n",
    "    #           for i in range(n) for a in range(n) for c in range(n) \\\n",
    "    #            if (a != b) & (a != c) & (b != c) & ((i == a) or (i == b) or (i == c))) \\\n",
    "    #      - 3 * iv_allocation[b][1] <= 0)\n",
    "    model += lpSum(allocation[i][a][b][c][0] \\\n",
    "                for i in range(n) for a in range(n) for c in range(n) \\\n",
    "                if (a != b) & (a != c) & (b != c) & ((i == a) or (i == b) or (i == c))) \\\n",
    "          - 3 * iv_allocation[b][1] <= 0, f'Max 3 Teams bei Team {b} im 2. Gang'"
   ]
  },
  {
   "cell_type": "markdown",
   "id": "07c76b5e-bc43-4afb-ab95-e651cfcb680e",
   "metadata": {},
   "source": [
    "For course 3, exactly 3 teams are at the same place:\n",
    "\n",
    "$0 \\leq \\Sigma_{i=1}^n \\Sigma_{a=1}^n \\Sigma_{b=1}^n x_{iabcF} \\leq 3 * x_{c3}$ &nbsp; $\\forall c$\n",
    "<br><br>"
   ]
  },
  {
   "cell_type": "code",
   "execution_count": 17,
   "id": "369f1bfc-9e7c-47d3-aebb-89e6d55f2b08",
   "metadata": {
    "tags": []
   },
   "outputs": [],
   "source": [
    "for c in range(n):\n",
    "    #print(lpSum(allocation[i][a][b][c][0] \\\n",
    "    #            for i in range(n) for a in range(n) for b in range(n) \\\n",
    "    #            if (a != b) & (a != c) & (b != c) & ((i == a) or (i == b) or (i == c))) >= 0)\n",
    "    model += lpSum(allocation[i][a][b][c][0] \\\n",
    "                for i in range(n) for a in range(n) for b in range(n) \\\n",
    "                if (a != b) & (a != c) & (b != c) & ((i == a) or (i == b) or (i == c))) >= 0, f'Min 3 Teams bei Team {c} im 3. Gang'\n",
    "    \n",
    "    #print(lpSum(allocation[i][a][b][c][0] \\\n",
    "    #            for i in range(n) for a in range(n) for b in range(n) \\\n",
    "    #            if (a != b) & (a != c) & (b != c) & ((i == a) or (i == b) or (i == c))) \\\n",
    "    #      - 3 * iv_allocation[c][2] <= 0)\n",
    "    model += lpSum(allocation[i][a][b][c][0] \\\n",
    "                for i in range(n) for a in range(n) for b in range(n) \\\n",
    "                if (a != b) & (a != c) & (b != c) & ((i == a) or (i == b) or (i == c))) \\\n",
    "          - 3 * iv_allocation[c][2] <= 0, f'Max 3 Teams bei Team {c} im 3. Gang'"
   ]
  },
  {
   "cell_type": "markdown",
   "id": "0d306432-01c9-4302-9fe4-cd1a7493e63a",
   "metadata": {},
   "source": [
    "Every team is hosting exactly 1 course:\n",
    "\n",
    "$\\Sigma_{k=1}^3 x_{ik} = 1$ &nbsp; $\\forall i$"
   ]
  },
  {
   "cell_type": "code",
   "execution_count": 18,
   "id": "604e559f-3f91-41bf-9a98-4acde9161563",
   "metadata": {
    "tags": []
   },
   "outputs": [],
   "source": [
    "for i in range(n):\n",
    "    #print(lpSum(iv_allocation[i][k] for k in range(3)) == 1)\n",
    "    model += lpSum(iv_allocation[i][k] for k in range(3)) == 1, f'Team {i} hat genau 1 Gang'"
   ]
  },
  {
   "cell_type": "markdown",
   "id": "8b5f30cd-881b-4ca6-82f8-3a76024d5cf2",
   "metadata": {},
   "source": [
    "Every course is hosted by exactly $n/3$ teams:\n",
    "\n",
    "$\\Sigma_{i=1}^n x_{ik} = 3$ &nbsp; $\\forall k$"
   ]
  },
  {
   "cell_type": "code",
   "execution_count": 19,
   "id": "1ef47d45-1740-4629-8483-b48558669e7e",
   "metadata": {
    "tags": []
   },
   "outputs": [],
   "source": [
    "for k in range(3):\n",
    "    #print(lpSum(iv_allocation[i][k] for i in range(n)) == n/3)\n",
    "    model += lpSum(iv_allocation[i][k] for i in range(n)) == n/3, f'Gang {k} wird von genau {n/3} Teams gekocht'"
   ]
  },
  {
   "cell_type": "code",
   "execution_count": 21,
   "id": "336f3d3f-dea9-4630-adf1-8074f1b15625",
   "metadata": {},
   "outputs": [],
   "source": [
    "def get_dv_variable_index(n,i,a,b,c):\n",
    "    print(dv_variables[(i*pow(n,3)) + (a*pow(n,2)) + (b*pow(n,1)) + (c*pow(n,0))])\n",
    "    print((i*pow(n,3)) + (a*pow(n,2)) + (b*pow(n,1)) + (c*pow(n,0)))"
   ]
  },
  {
   "cell_type": "code",
   "execution_count": 42,
   "id": "9861e3ca-97d0-40fa-ab6e-c1eb7b8c8109",
   "metadata": {},
   "outputs": [
    {
     "name": "stdout",
     "output_type": "stream",
     "text": [
      "x_oocn0\n",
      "50443\n"
     ]
    }
   ],
   "source": [
    "get_dv_variable_index(n, 14, 14, 2, 13)"
   ]
  },
  {
   "cell_type": "code",
   "execution_count": 23,
   "id": "05214ea6-40b9-4b74-94c8-c29b0ff01df9",
   "metadata": {
    "tags": []
   },
   "outputs": [
    {
     "data": {
      "text/plain": [
       "True"
      ]
     },
     "execution_count": 23,
     "metadata": {},
     "output_type": "execute_result"
    }
   ],
   "source": [
    "#x[('O', 'P', 'Q', 'R')].setInitialValue(1)\n",
    "#x[('K', 'N', 'O', 'R')].setInitialValue(0)\n",
    "\n",
    "dv_variables[97].setInitialValue(1) #1\n",
    "dv_variables[3672].setInitialValue(1) #2\n",
    "dv_variables[7012].setInitialValue(1) #3\n",
    "dv_variables[10902].setInitialValue(1) #4\n",
    "dv_variables[14246].setInitialValue(1) #5\n",
    "dv_variables[18041].setInitialValue(1) #6\n",
    "dv_variables[23499].setInitialValue(1) #7\n",
    "dv_variables[24427].setInitialValue(1) #8\n",
    "dv_variables[27129].setInitialValue(1) #9\n",
    "dv_variables[30759].setInitialValue(1) #10\n",
    "dv_variables[33913].setInitialValue(1) #11\n",
    "dv_variables[40436].setInitialValue(1) #12\n",
    "dv_variables[41757].setInitialValue(1) #13\n",
    "dv_variables[45073].setInitialValue(1) #14\n",
    "dv_variables[50443].setInitialValue(1) #15"
   ]
  },
  {
   "cell_type": "code",
   "execution_count": 24,
   "id": "cb155cfc-94f4-48cf-a60d-5fbacee6235c",
   "metadata": {},
   "outputs": [
    {
     "data": {
      "text/plain": [
       "True"
      ]
     },
     "execution_count": 24,
     "metadata": {},
     "output_type": "execute_result"
    }
   ],
   "source": [
    "iv_variables[0*3 + 0].setInitialValue(1)\n",
    "iv_variables[1*3 + 0].setInitialValue(1)\n",
    "iv_variables[2*3 + 1].setInitialValue(1)\n",
    "iv_variables[3*3 + 0].setInitialValue(1)\n",
    "iv_variables[4*3 + 1].setInitialValue(1)\n",
    "iv_variables[5*3 + 0].setInitialValue(1)\n",
    "iv_variables[6*3 + 1].setInitialValue(1)\n",
    "iv_variables[7*3 + 2].setInitialValue(1)\n",
    "iv_variables[8*3 + 1].setInitialValue(1)\n",
    "iv_variables[9*3 + 2].setInitialValue(1)\n",
    "iv_variables[10*3 + 1].setInitialValue(1)\n",
    "iv_variables[11*3 + 2].setInitialValue(1)\n",
    "iv_variables[12*3 + 2].setInitialValue(1)\n",
    "iv_variables[13*3 + 2].setInitialValue(1)\n",
    "iv_variables[14*3 + 0].setInitialValue(1)"
   ]
  },
  {
   "cell_type": "code",
   "execution_count": 25,
   "id": "d3af9bb7-659d-425c-87f7-d88faac3c6b1",
   "metadata": {
    "tags": []
   },
   "outputs": [
    {
     "name": "stdout",
     "output_type": "stream",
     "text": [
      "Welcome to the CBC MILP Solver \n",
      "Version: 2.10.3 \n",
      "Build Date: Dec 15 2019 \n",
      "\n",
      "command line - /Library/Frameworks/Python.framework/Versions/3.9/lib/python3.9/site-packages/pulp/solverdir/cbc/osx/64/cbc /var/folders/8b/z587n0ws2lg0_hvpyjtpn3vr0000gp/T/0cab028dc55446548d667b7744523535-pulp.mps mips /var/folders/8b/z587n0ws2lg0_hvpyjtpn3vr0000gp/T/0cab028dc55446548d667b7744523535-pulp.mst sec 7200 timeMode elapsed branch printingOptions all solution /var/folders/8b/z587n0ws2lg0_hvpyjtpn3vr0000gp/T/0cab028dc55446548d667b7744523535-pulp.sol (default strategy 1)\n",
      "At line 2 NAME          MODEL\n",
      "At line 3 ROWS\n",
      "At line 760 COLUMNS\n",
      "At line 343080 RHS\n",
      "At line 343836 BOUNDS\n",
      "At line 394507 ENDATA\n",
      "Problem MODEL has 755 rows, 50670 columns and 190354 elements\n",
      "Coin0008I MODEL read with 0 errors\n",
      "opening mipstart file /var/folders/8b/z587n0ws2lg0_hvpyjtpn3vr0000gp/T/0cab028dc55446548d667b7744523535-pulp.mst.\n",
      "MIPStart values read for 50670 variables.\n",
      "seconds was changed from 1e+100 to 7200\n",
      "Option for timeMode changed from cpu to elapsed\n",
      "Continuous objective value is 980 - 0.09 seconds\n",
      "Cgl0002I 10039 variables fixed\n",
      "Cgl0004I processed model has 693 rows, 7856 columns (7856 integer (7856 of which binary)) and 54902 elements\n",
      "Cutoff increment increased from 1e-05 to 0.9999\n",
      "Cbc0045I MIPStart provided solution with cost 1597\n",
      "Cbc0012I Integer solution of 1597 found by Reduced search after 0 iterations and 0 nodes (0.38 seconds)\n",
      "Cbc0038I Full problem 693 rows 7856 columns, reduced to 29 rows 25 columns\n",
      "Cbc0031I 48 added rows had average density of 151\n",
      "Cbc0013I At root node, 48 cuts changed objective from 980 to 1107.0032 in 16 passes\n",
      "Cbc0014I Cut generator 0 (Probing) - 44 row cuts average 21.4 elements, 0 column cuts (0 active)  in 0.309 seconds - new frequency is 1\n",
      "Cbc0014I Cut generator 1 (Gomory) - 18 row cuts average 284.7 elements, 0 column cuts (0 active)  in 0.070 seconds - new frequency is 1\n",
      "Cbc0014I Cut generator 2 (Knapsack) - 35 row cuts average 7.1 elements, 0 column cuts (0 active)  in 0.012 seconds - new frequency is 1\n",
      "Cbc0014I Cut generator 3 (Clique) - 2 row cuts average 4.5 elements, 0 column cuts (0 active)  in 0.003 seconds - new frequency is -100\n",
      "Cbc0014I Cut generator 4 (MixedIntegerRounding2) - 95 row cuts average 20.6 elements, 0 column cuts (0 active)  in 0.040 seconds - new frequency is 1\n",
      "Cbc0014I Cut generator 5 (FlowCover) - 0 row cuts average 0.0 elements, 0 column cuts (0 active)  in 0.004 seconds - new frequency is -100\n",
      "Cbc0014I Cut generator 6 (TwoMirCuts) - 9 row cuts average 62.7 elements, 0 column cuts (0 active)  in 0.040 seconds - new frequency is 1\n",
      "Cbc0014I Cut generator 7 (ZeroHalf) - 97 row cuts average 93.3 elements, 0 column cuts (0 active)  in 0.099 seconds - new frequency is 1\n",
      "Cbc0010I After 0 nodes, 1 on tree, 1597 best solution, best possible 1107.0032 (1.53 seconds)\n",
      "Cbc0004I Integer solution of 1430 found after 4915 iterations and 22 nodes (3.19 seconds)\n",
      "Cbc0038I Full problem 693 rows 7856 columns, reduced to 81 rows 62 columns\n",
      "Cbc0016I Integer solution of 1354 found by strong branching after 7779 iterations and 45 nodes (4.07 seconds)\n",
      "Cbc0038I Full problem 693 rows 7856 columns, reduced to 68 rows 50 columns\n",
      "Cbc0010I After 100 nodes, 33 on tree, 1354 best solution, best possible 1107.0032 (5.73 seconds)\n",
      "Cbc0038I Full problem 693 rows 7856 columns, reduced to 81 rows 60 columns\n",
      "Cbc0010I After 200 nodes, 42 on tree, 1354 best solution, best possible 1107.0032 (8.10 seconds)\n",
      "Cbc0004I Integer solution of 1351 found after 30677 iterations and 264 nodes (9.48 seconds)\n",
      "Cbc0010I After 300 nodes, 43 on tree, 1351 best solution, best possible 1107.0032 (10.03 seconds)\n",
      "Cbc0038I Full problem 693 rows 7856 columns, reduced to 100 rows 90 columns\n",
      "Cbc0010I After 400 nodes, 27 on tree, 1351 best solution, best possible 1107.0032 (11.69 seconds)\n",
      "Cbc0038I Full problem 693 rows 7856 columns, reduced to 111 rows 95 columns\n",
      "Cbc0010I After 500 nodes, 9 on tree, 1351 best solution, best possible 1107.0032 (13.45 seconds)\n",
      "Cbc0038I Full problem 693 rows 7856 columns, reduced to 87 rows 69 columns\n",
      "Cbc0010I After 600 nodes, 29 on tree, 1351 best solution, best possible 1107.0032 (16.89 seconds)\n",
      "Cbc0038I Full problem 693 rows 7856 columns, reduced to 106 rows 87 columns\n",
      "Cbc0010I After 700 nodes, 24 on tree, 1351 best solution, best possible 1107.0032 (19.38 seconds)\n",
      "Cbc0010I After 800 nodes, 6 on tree, 1351 best solution, best possible 1107.0032 (21.68 seconds)\n",
      "Cbc0004I Integer solution of 1348 found after 98191 iterations and 872 nodes (24.79 seconds)\n",
      "Cbc0010I After 900 nodes, 11 on tree, 1348 best solution, best possible 1107.0032 (25.33 seconds)\n",
      "Cbc0038I Full problem 693 rows 7856 columns, reduced to 87 rows 70 columns\n",
      "Cbc0010I After 1000 nodes, 5 on tree, 1348 best solution, best possible 1107.0032 (28.12 seconds)\n",
      "Cbc0038I Full problem 693 rows 7856 columns, reduced to 85 rows 67 columns\n",
      "Cbc0010I After 1100 nodes, 12 on tree, 1348 best solution, best possible 1107.0032 (30.96 seconds)\n",
      "Cbc0004I Integer solution of 1326 found after 126895 iterations and 1105 nodes (31.10 seconds)\n",
      "Cbc0004I Integer solution of 1322 found after 130120 iterations and 1128 nodes (31.92 seconds)\n",
      "Cbc0004I Integer solution of 1310 found after 131911 iterations and 1148 nodes (32.38 seconds)\n",
      "Cbc0038I Full problem 693 rows 7856 columns, reduced to 87 rows 70 columns\n",
      "Cbc0010I After 1200 nodes, 13 on tree, 1310 best solution, best possible 1107.0032 (33.34 seconds)\n",
      "Cbc0010I After 1300 nodes, 10 on tree, 1310 best solution, best possible 1107.0032 (35.98 seconds)\n",
      "Cbc0010I After 1400 nodes, 15 on tree, 1310 best solution, best possible 1107.0032 (38.72 seconds)\n",
      "Cbc0010I After 1500 nodes, 8 on tree, 1310 best solution, best possible 1107.0032 (40.99 seconds)\n",
      "Cbc0010I After 1600 nodes, 7 on tree, 1310 best solution, best possible 1107.0032 (44.44 seconds)\n",
      "Cbc0010I After 1700 nodes, 2 on tree, 1310 best solution, best possible 1107.0032 (47.94 seconds)\n",
      "Cbc0010I After 1800 nodes, 3 on tree, 1310 best solution, best possible 1125.2766 (51.65 seconds)\n",
      "Cbc0010I After 1900 nodes, 5 on tree, 1310 best solution, best possible 1125.2766 (56.12 seconds)\n",
      "Cbc0010I After 2000 nodes, 1 on tree, 1310 best solution, best possible 1268.5852 (59.70 seconds)\n",
      "Cbc0001I Search completed - best objective 1310, took 243274 iterations and 2001 nodes (59.71 seconds)\n",
      "Cbc0032I Strong branching done 5178 times (42588 iterations), fathomed 24 nodes and fixed 22 variables\n",
      "Cbc0035I Maximum depth 22, 636723 variables fixed on reduced cost\n",
      "Cuts at root node changed objective from 980 to 1107\n",
      "Probing was tried 2600 times and created 236 cuts of which 0 were active after adding rounds of cuts (0.999 seconds)\n",
      "Gomory was tried 2597 times and created 26 cuts of which 0 were active after adding rounds of cuts (2.310 seconds)\n",
      "Knapsack was tried 2599 times and created 5721 cuts of which 0 were active after adding rounds of cuts (5.405 seconds)\n",
      "Clique was tried 16 times and created 2 cuts of which 0 were active after adding rounds of cuts (0.003 seconds)\n",
      "MixedIntegerRounding2 was tried 2599 times and created 4851 cuts of which 0 were active after adding rounds of cuts (5.600 seconds)\n",
      "FlowCover was tried 16 times and created 0 cuts of which 0 were active after adding rounds of cuts (0.004 seconds)\n",
      "TwoMirCuts was tried 2597 times and created 114 cuts of which 0 were active after adding rounds of cuts (2.310 seconds)\n",
      "ZeroHalf was tried 2599 times and created 8055 cuts of which 0 were active after adding rounds of cuts (12.221 seconds)\n",
      "ImplicationCuts was tried 937 times and created 416 cuts of which 0 were active after adding rounds of cuts (0.477 seconds)\n",
      "\n",
      "Result - Optimal solution found\n",
      "\n",
      "Objective value:                1310.00000000\n",
      "Enumerated nodes:               2001\n",
      "Total iterations:               243274\n",
      "Time (CPU seconds):             53.45\n",
      "Time (Wallclock seconds):       59.79\n",
      "\n",
      "Option for printingOptions changed from normal to all\n",
      "Total time (CPU seconds):       53.60   (Wallclock seconds):       59.97\n",
      "\n",
      "Optimal\n"
     ]
    }
   ],
   "source": [
    "time_limit_in_seconds = 60*60*2\n",
    "model.solve(PULP_CBC_CMD(warmStart=True, timeLimit=time_limit_in_seconds))\n",
    "status = LpStatus[model.status]\n",
    "print(status)"
   ]
  },
  {
   "cell_type": "code",
   "execution_count": 26,
   "id": "4d5dc23d-be0d-4ba0-8f89-e4c896e75b13",
   "metadata": {},
   "outputs": [
    {
     "name": "stdout",
     "output_type": "stream",
     "text": [
      "Total Distance: 1310.0\n"
     ]
    }
   ],
   "source": [
    "print('Total Distance:', model.objective.value())"
   ]
  },
  {
   "cell_type": "code",
   "execution_count": 23,
   "id": "0d0c657d-a92d-442d-8f20-a9f8a260cc90",
   "metadata": {},
   "outputs": [
    {
     "name": "stdout",
     "output_type": "stream",
     "text": [
      "Total Distance: 1275.0\n"
     ]
    }
   ],
   "source": [
    "print('Total Distance:', model.objective.value())"
   ]
  },
  {
   "cell_type": "code",
   "execution_count": 27,
   "id": "9a51055a-5b75-4160-a8e4-dc671621563e",
   "metadata": {
    "tags": []
   },
   "outputs": [
    {
     "name": "stdout",
     "output_type": "stream",
     "text": [
      "x_a1 = 1.0\n",
      "x_b3 = 1.0\n",
      "x_c2 = 1.0\n",
      "x_d3 = 1.0\n",
      "x_e2 = 1.0\n",
      "x_f1 = 1.0\n",
      "x_g2 = 1.0\n",
      "x_h2 = 1.0\n",
      "x_i3 = 1.0\n",
      "x_j3 = 1.0\n",
      "x_k3 = 1.0\n",
      "x_l1 = 1.0\n",
      "x_m1 = 1.0\n",
      "x_n2 = 1.0\n",
      "x_o1 = 1.0\n"
     ]
    }
   ],
   "source": [
    "for v in model.variables():\n",
    "    try:\n",
    "        if (v.value() > 0) & (len(v.name) < 5):\n",
    "            print(v.name, '=', v.value())\n",
    "    except:\n",
    "        pass\n",
    "        #print('error couldnt find value')"
   ]
  }
 ],
 "metadata": {
  "kernelspec": {
   "display_name": "Python 3 (ipykernel)",
   "language": "python",
   "name": "python3"
  },
  "language_info": {
   "codemirror_mode": {
    "name": "ipython",
    "version": 3
   },
   "file_extension": ".py",
   "mimetype": "text/x-python",
   "name": "python",
   "nbconvert_exporter": "python",
   "pygments_lexer": "ipython3",
   "version": "3.9.5"
  }
 },
 "nbformat": 4,
 "nbformat_minor": 5
}
